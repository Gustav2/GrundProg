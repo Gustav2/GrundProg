{
 "cells": [
  {
   "cell_type": "markdown",
   "metadata": {},
   "source": [
    "# Programmering for matematikere\n",
    "\n",
    "## Modul 7 - Ordbøger og tupler\n",
    "\n",
    "<div align=\"center\">\n",
    "Jimmy Jessen Nielsen<br/>\n",
    "jjn@es.aau.dk\n",
    "<div/>\n",
    "<br/>\n",
    "<div align=\"center\">\n",
    "Inst. for Elektroniske Systemer<br/>\n",
    "Aalborg Universitet\n",
    "</div>"
   ]
  },
  {
   "cell_type": "markdown",
   "metadata": {
    "slideshow": {
     "slide_type": "slide"
    }
   },
   "source": [
    "# Del 1 - Ordbøger (dictionaries)"
   ]
  },
  {
   "cell_type": "markdown",
   "metadata": {
    "slideshow": {
     "slide_type": "subslide"
    }
   },
   "source": [
    "En ordbog kan ses som en *afbildning* (matematisk terminologi) fra ét sæt værdier til et andet.\n",
    "\n",
    "![Key-value mapping](./key-value-mapping.jpeg \"Key-value mapping\")\n",
    "- Den afbilder et sæt *nøgler* (keys) på et sæt *værdier* (values).\n",
    "- Man kan også tænke på det som, at nøglerne bruges til at slå værdier op - heraf navnet og analogien til ordbøger.\n",
    "- En ordbog består således af par af hhv. nøgle og værdi; de to hører altid sammen.\n",
    "Vi kan starte med at lave en tom ordbog (her tænkt som en engelsk-spansk ordbog):"
   ]
  },
  {
   "cell_type": "code",
   "execution_count": 6,
   "metadata": {
    "slideshow": {
     "slide_type": "-"
    }
   },
   "outputs": [
    {
     "data": {
      "text/plain": [
       "{}"
      ]
     },
     "execution_count": 6,
     "metadata": {},
     "output_type": "execute_result"
    }
   ],
   "source": [
    "eng2sp = dict()\n",
    "eng2sp"
   ]
  },
  {
   "cell_type": "markdown",
   "metadata": {
    "slideshow": {
     "slide_type": "subslide"
    }
   },
   "source": [
    "Bemærk at en ordbog printes med tuborg-paranteser. Denne har intet indhold endnu.\n",
    "\n",
    "Vi kan f.eks. fylde værdier i en ordbog ved at referere et element i ordbogen med en nøgle og tildele det en værdi:"
   ]
  },
  {
   "cell_type": "code",
   "execution_count": 7,
   "metadata": {
    "slideshow": {
     "slide_type": "-"
    }
   },
   "outputs": [
    {
     "data": {
      "text/plain": [
       "{'one': 'uno'}"
      ]
     },
     "execution_count": 7,
     "metadata": {},
     "output_type": "execute_result"
    }
   ],
   "source": [
    "eng2sp['one'] = 'uno'\n",
    "eng2sp"
   ]
  },
  {
   "cell_type": "markdown",
   "metadata": {
    "slideshow": {
     "slide_type": "subslide"
    }
   },
   "source": [
    "### Oprettelse\n",
    "\n",
    "Den syntaks som Python viser output med ovenfor kan man også bruge til at oprette en ordbog:"
   ]
  },
  {
   "cell_type": "code",
   "execution_count": 10,
   "metadata": {
    "slideshow": {
     "slide_type": "-"
    }
   },
   "outputs": [
    {
     "data": {
      "text/plain": [
       "{'one': 'uno', 'two': 'dos', 'three': 'tres'}"
      ]
     },
     "execution_count": 10,
     "metadata": {},
     "output_type": "execute_result"
    }
   ],
   "source": [
    "eng2sp = {'one': 'uno', 'two': 'dos', 'three': 'tres'}\n",
    "eng2sp"
   ]
  },
  {
   "cell_type": "markdown",
   "metadata": {},
   "source": [
    "Bemærk hvordan nøgle og værdi er adskilt med kolon og nøgle-værdi par er adskilt med komma."
   ]
  },
  {
   "cell_type": "markdown",
   "metadata": {
    "slideshow": {
     "slide_type": "fragment"
    }
   },
   "source": [
    "*En sidebemærkning: I bogen viser Downey, at rækkefølgen ikke bevares i eksemplet herover, men det kan godt være tilfældet (Især i de nyeste udgaver af Python som vi bruger). Det korte af det lange er, at vi ikke nødvendigvis regne med at rækkefølgen i en ordbog bibeholdes.*"
   ]
  },
  {
   "cell_type": "markdown",
   "metadata": {
    "slideshow": {
     "slide_type": "subslide"
    }
   },
   "source": [
    "### Opslag\n",
    "Imidlertid er det ikke vigtigt, om rækkefølgen af elementer i en ordbog bevares. Vi slår værdier op via deres tilhørende nøgle og er ikke afhængige af at kunne finde dem ved et bestemt indeks(-tal), som hvis vi havde gemt værdierne i en liste. Lad os lave et opslag:"
   ]
  },
  {
   "cell_type": "code",
   "execution_count": 4,
   "metadata": {
    "slideshow": {
     "slide_type": "-"
    }
   },
   "outputs": [
    {
     "data": {
      "text/plain": [
       "'dos'"
      ]
     },
     "execution_count": 4,
     "metadata": {},
     "output_type": "execute_result"
    }
   ],
   "source": [
    "eng2sp['two']"
   ]
  },
  {
   "cell_type": "markdown",
   "metadata": {
    "slideshow": {
     "slide_type": "fragment"
    }
   },
   "source": [
    "Hvad sker der, hvis vi prøver at slå en nøgle op, som ikke findes i ordbogen?"
   ]
  },
  {
   "cell_type": "code",
   "execution_count": 12,
   "metadata": {
    "slideshow": {
     "slide_type": "-"
    }
   },
   "outputs": [
    {
     "ename": "KeyError",
     "evalue": "'four'",
     "output_type": "error",
     "traceback": [
      "\u001b[0;31m---------------------------------------------------------------------------\u001b[0m",
      "\u001b[0;31mKeyError\u001b[0m                                  Traceback (most recent call last)",
      "\u001b[0;32m/tmp/ipykernel_63465/2807805483.py\u001b[0m in \u001b[0;36m<module>\u001b[0;34m\u001b[0m\n\u001b[0;32m----> 1\u001b[0;31m \u001b[0meng2sp\u001b[0m\u001b[0;34m[\u001b[0m\u001b[0;34m'four'\u001b[0m\u001b[0;34m]\u001b[0m\u001b[0;34m\u001b[0m\u001b[0;34m\u001b[0m\u001b[0m\n\u001b[0m",
      "\u001b[0;31mKeyError\u001b[0m: 'four'"
     ]
    }
   ],
   "source": [
    "eng2sp['four']"
   ]
  },
  {
   "cell_type": "markdown",
   "metadata": {},
   "source": [
    "Det giver en fejlmeddelelse. Vi vender tilbage til hvordan vi kan håndtere sådan en fejl."
   ]
  },
  {
   "cell_type": "markdown",
   "metadata": {
    "slideshow": {
     "slide_type": "subslide"
    }
   },
   "source": [
    "Som med bl.a. lister og tupler kan vi også få at vide, hvor lang en ordbog er, vha. `len`:"
   ]
  },
  {
   "cell_type": "code",
   "execution_count": 14,
   "metadata": {
    "slideshow": {
     "slide_type": "-"
    }
   },
   "outputs": [
    {
     "data": {
      "text/plain": [
       "3"
      ]
     },
     "execution_count": 14,
     "metadata": {},
     "output_type": "execute_result"
    }
   ],
   "source": [
    "len(eng2sp)"
   ]
  },
  {
   "cell_type": "markdown",
   "metadata": {},
   "source": [
    "Det skal forstås som antallet af nøgle-værdi par."
   ]
  },
  {
   "cell_type": "markdown",
   "metadata": {
    "slideshow": {
     "slide_type": "fragment"
    }
   },
   "source": [
    "Tilsvarende kan vi også bruge `in` til at tjekke, om en given nøgle er til stede i ordbogen:"
   ]
  },
  {
   "cell_type": "code",
   "execution_count": 7,
   "metadata": {
    "slideshow": {
     "slide_type": "-"
    }
   },
   "outputs": [
    {
     "data": {
      "text/plain": [
       "True"
      ]
     },
     "execution_count": 7,
     "metadata": {},
     "output_type": "execute_result"
    }
   ],
   "source": [
    "'one' in eng2sp"
   ]
  },
  {
   "cell_type": "markdown",
   "metadata": {
    "slideshow": {
     "slide_type": "subslide"
    }
   },
   "source": [
    "Bemærk at `in` **ikke** kan bruges til at tjekke om en værdi findes blandt værdierne i ordbogen (den kigger kun på nøglerne):"
   ]
  },
  {
   "cell_type": "code",
   "execution_count": 8,
   "metadata": {
    "slideshow": {
     "slide_type": "-"
    }
   },
   "outputs": [
    {
     "data": {
      "text/plain": [
       "False"
      ]
     },
     "execution_count": 8,
     "metadata": {},
     "output_type": "execute_result"
    }
   ],
   "source": [
    "'uno' in eng2sp"
   ]
  },
  {
   "cell_type": "markdown",
   "metadata": {
    "slideshow": {
     "slide_type": "fragment"
    }
   },
   "source": [
    "Hvis vi vil tjekke en værdi, kan vi få en liste med ordbogens værdier vha. metoden `values` som vi derefter kan tjekke for en bestemt værdi:"
   ]
  },
  {
   "cell_type": "code",
   "execution_count": 9,
   "metadata": {
    "slideshow": {
     "slide_type": "-"
    }
   },
   "outputs": [
    {
     "data": {
      "text/plain": [
       "True"
      ]
     },
     "execution_count": 9,
     "metadata": {},
     "output_type": "execute_result"
    }
   ],
   "source": [
    "vals = eng2sp.values()\n",
    "'uno' in vals"
   ]
  },
  {
   "cell_type": "markdown",
   "metadata": {
    "tags": []
   },
   "source": [
    "## Opgave 1\n",
    "\n",
    "1. Lav en ordbog kaldet `aldre` der gemmer navne og alder på 3 forskellige personer: Alice, Bob og Charlie på hhv. 17, 18 og 19 år. Dvs. navn er nøgle og alder er værdi.\n",
    "2. Alice har netop haft fødselsdag og vi har derfor brug for at opdatere hendes alder til 18 år. Lav denne ændring ved at tildele den nye værdi.\n",
    "3. Træk alle aldrene ud af ordbogen og print dem til skærmen."
   ]
  },
  {
   "cell_type": "code",
   "execution_count": 123,
   "metadata": {},
   "outputs": [],
   "source": [
    "#1\n",
    "\n",
    "\n",
    "#2\n",
    "\n",
    "\n",
    "#3\n",
    "\n"
   ]
  },
  {
   "cell_type": "markdown",
   "metadata": {},
   "source": [
    "Se svaret ved at klikke på \"...\" herunder. Men prøv først selv om du kan løse opgaven uden hjælp."
   ]
  },
  {
   "cell_type": "code",
   "execution_count": 71,
   "metadata": {
    "jupyter": {
     "source_hidden": true
    },
    "tags": []
   },
   "outputs": [],
   "source": [
    "#1\n",
    "aldre = {'Alice': 17, 'Bob': 18, 'Charlie': 19}\n",
    "\n",
    "#2\n",
    "aldre['Alice'] = 18\n",
    "\n",
    "#3\n",
    "for alder in aldre.values():\n",
    "    print(alder)"
   ]
  },
  {
   "cell_type": "markdown",
   "metadata": {
    "slideshow": {
     "slide_type": "subslide"
    }
   },
   "source": [
    "## Ordbog som en samling af tællere\n",
    "Hvis vi f.eks. får givet en tekststreng og bliver bedt om at tælle, hvor mange gange hvert muligt bogstav optræder i strengen, kunne vi gøre det på flere mulige måder:\n",
    "1. Vi kunne oprette 26 individuelle variable (én for hvert bogstav i det engelske alfabet), gennemløbe strengen og tælle den tilsvarende variabel op med én, hver gang vi møder et bestemt bogstav.\n",
    "2. Vi kunne oprette en liste med 26 elementer. Hvert bogstav kunne konverteres til et tal (vha. funktionen `ord`). Dette tal kunne bruges som indeks til et element i listen, som så tælles op med én for den pågældende bogstav.\n",
    "3. Vi kunne også oprette en ordbog med bogstaver som nøgler og de tilhørende værdier som tællere. Når vi første gang møder et givet bogstav, tilføjes det til ordbogen med værdien 1. Hvis vi herefter møder det igen, tælles værdien op med yderligere én for hver gang."
   ]
  },
  {
   "cell_type": "markdown",
   "metadata": {
    "slideshow": {
     "slide_type": "subslide"
    }
   },
   "source": [
    "De forskellige bud på fremgangsmåder herover er alle mulige *implementationer* af den samme udregning. De opnår det samme, men på forskellige måder.\n",
    "- En *implementation* er en konkret måde at løse en bestemt udfordring på.\n",
    "- Man kan nå frem til den samme løsning via forskellige fremgangsmåder; forskellige implementationer.\n",
    "- Nogle implementationer er bedre end andre; det kan f.eks. være i form af, hvor lette de er at forstå, hvor hurtige de er at køre eller noget helt tredje."
   ]
  },
  {
   "cell_type": "markdown",
   "metadata": {
    "slideshow": {
     "slide_type": "subslide"
    }
   },
   "source": [
    "Ovenstående problemstilling kunne vi løse vha. en ordbog på denne måde:"
   ]
  },
  {
   "cell_type": "code",
   "execution_count": 74,
   "metadata": {
    "slideshow": {
     "slide_type": "-"
    }
   },
   "outputs": [],
   "source": [
    "def histogram(s):\n",
    "    d = dict()\n",
    "    for c in s: # for hvert bogstav i strengen:\n",
    "        if c not in d:\n",
    "            d[c] = 1\n",
    "        else:\n",
    "            d[c] += 1\n",
    "    return d"
   ]
  },
  {
   "cell_type": "markdown",
   "metadata": {
    "slideshow": {
     "slide_type": "-"
    }
   },
   "source": [
    "Funktionens navn `histogram` er valgt, fordi det er et statistisk udtryk for optællingen af forekomster af forskellige værdier."
   ]
  },
  {
   "cell_type": "markdown",
   "metadata": {
    "slideshow": {
     "slide_type": "subslide"
    }
   },
   "source": [
    "Lad os prøve `histogram`-funktionen på et velkendt ord:"
   ]
  },
  {
   "cell_type": "code",
   "execution_count": 75,
   "metadata": {},
   "outputs": [
    {
     "data": {
      "text/plain": [
       "{'b': 1, 'a': 3, 'n': 2}"
      ]
     },
     "execution_count": 75,
     "metadata": {},
     "output_type": "execute_result"
    }
   ],
   "source": [
    "h = histogram('banana')\n",
    "h"
   ]
  },
  {
   "cell_type": "markdown",
   "metadata": {},
   "source": [
    "Herudfra kan vi se at ordet indeholder en forekomst af 'b', 3 forekomster af 'a' og to forekomster af 'n'."
   ]
  },
  {
   "cell_type": "markdown",
   "metadata": {
    "slideshow": {
     "slide_type": "subslide"
    }
   },
   "source": [
    "Ordbøger har en metode kaldet `get`, som tager en nøgle og en standardværdi:"
   ]
  },
  {
   "cell_type": "code",
   "execution_count": 25,
   "metadata": {
    "slideshow": {
     "slide_type": "-"
    }
   },
   "outputs": [
    {
     "data": {
      "text/plain": [
       "3"
      ]
     },
     "execution_count": 25,
     "metadata": {},
     "output_type": "execute_result"
    }
   ],
   "source": [
    "h.get('a', 0)"
   ]
  },
  {
   "cell_type": "markdown",
   "metadata": {},
   "source": [
    "I dette tilfælde er resultatet det samme som hvis vi havde brugt:"
   ]
  },
  {
   "cell_type": "code",
   "execution_count": 27,
   "metadata": {},
   "outputs": [
    {
     "data": {
      "text/plain": [
       "3"
      ]
     },
     "execution_count": 27,
     "metadata": {},
     "output_type": "execute_result"
    }
   ],
   "source": [
    "h['a']"
   ]
  },
  {
   "cell_type": "markdown",
   "metadata": {},
   "source": [
    "Men, hvis en nøgle ikke eksisterer, opfører `get` sig anderledes:"
   ]
  },
  {
   "cell_type": "code",
   "execution_count": 30,
   "metadata": {},
   "outputs": [
    {
     "ename": "KeyError",
     "evalue": "'c'",
     "output_type": "error",
     "traceback": [
      "\u001b[0;31m---------------------------------------------------------------------------\u001b[0m",
      "\u001b[0;31mKeyError\u001b[0m                                  Traceback (most recent call last)",
      "\u001b[0;32m/tmp/ipykernel_63465/4003728013.py\u001b[0m in \u001b[0;36m<module>\u001b[0;34m\u001b[0m\n\u001b[0;32m----> 1\u001b[0;31m \u001b[0mh\u001b[0m\u001b[0;34m[\u001b[0m\u001b[0;34m'c'\u001b[0m\u001b[0;34m]\u001b[0m\u001b[0;34m\u001b[0m\u001b[0;34m\u001b[0m\u001b[0m\n\u001b[0m",
      "\u001b[0;31mKeyError\u001b[0m: 'c'"
     ]
    }
   ],
   "source": [
    "h['c']"
   ]
  },
  {
   "cell_type": "code",
   "execution_count": 29,
   "metadata": {
    "slideshow": {
     "slide_type": "-"
    }
   },
   "outputs": [
    {
     "data": {
      "text/plain": [
       "0"
      ]
     },
     "execution_count": 29,
     "metadata": {},
     "output_type": "execute_result"
    }
   ],
   "source": [
    "h.get('c', 0)"
   ]
  },
  {
   "cell_type": "markdown",
   "metadata": {},
   "source": [
    "I stedet for at melde fejl (og afbryde programmet) får vi standardværdien (som vi har angivet til 0) returneret."
   ]
  },
  {
   "cell_type": "markdown",
   "metadata": {
    "slideshow": {
     "slide_type": "subslide"
    }
   },
   "source": [
    "## Opgave 2\n",
    "Omskriv `histogram`-funktionen til at udnytte `get`-funktionen så vi slipper af med `if`-udsagnet. \n",
    "\n",
    "*Hint: udnyt at `get`-funktionen ikke melder fejl, men returnerer en standardværdi (0 i eksemplet herover) når en nøgle ikke findes.*"
   ]
  },
  {
   "cell_type": "code",
   "execution_count": 2,
   "metadata": {},
   "outputs": [],
   "source": [
    "# Omskriv herunder\n",
    "def histogram(s):\n",
    "    d = dict()\n",
    "    for c in s: # for hvert bogstav i strengen:\n",
    "        if c not in d:\n",
    "            d[c] = 1\n",
    "        else:\n",
    "            d[c] += 1\n",
    "    return d"
   ]
  },
  {
   "cell_type": "code",
   "execution_count": 3,
   "metadata": {},
   "outputs": [
    {
     "data": {
      "text/plain": [
       "{'b': 1, 'a': 3, 'n': 2}"
      ]
     },
     "execution_count": 3,
     "metadata": {},
     "output_type": "execute_result"
    }
   ],
   "source": [
    "# Tjek om den virker\n",
    "h2 = histogram('banana')\n",
    "h2"
   ]
  },
  {
   "cell_type": "markdown",
   "metadata": {},
   "source": [
    "Se svaret ved at klikke på \"...\" herunder. Men prøv først selv om du kan løse opgaven uden hjælp."
   ]
  },
  {
   "cell_type": "code",
   "execution_count": 4,
   "metadata": {
    "jupyter": {
     "source_hidden": true
    },
    "tags": []
   },
   "outputs": [],
   "source": [
    "# Omskriv herunder\n",
    "def histogram(s):\n",
    "    d = dict()\n",
    "    for c in s: # for hvert bogstav i strengen:\n",
    "        d[c] = d.get(c,0) + 1\n",
    "    return d"
   ]
  },
  {
   "cell_type": "code",
   "execution_count": 5,
   "metadata": {},
   "outputs": [
    {
     "data": {
      "text/plain": [
       "{'b': 1, 'a': 3, 'n': 2}"
      ]
     },
     "execution_count": 5,
     "metadata": {},
     "output_type": "execute_result"
    }
   ],
   "source": [
    "# Tjek om den virker\n",
    "h2 = histogram('banana')\n",
    "h2"
   ]
  },
  {
   "cell_type": "markdown",
   "metadata": {
    "slideshow": {
     "slide_type": "subslide"
    }
   },
   "source": [
    "## Løkker og ordbøger\n",
    "\n",
    "Vi har tidligere set, hvordan vi kan bruge lister og tupler til at angive værdier som en `for`-løkke skal gennemløbe.  \n",
    "Vi kan også gennemløbe elementer i en ordbog vha. en løkke:"
   ]
  },
  {
   "cell_type": "code",
   "execution_count": 39,
   "metadata": {},
   "outputs": [
    {
     "name": "stdout",
     "output_type": "stream",
     "text": [
      "b\n",
      "a\n",
      "n\n"
     ]
    }
   ],
   "source": [
    "for key in h:\n",
    "    print(key)"
   ]
  },
  {
   "cell_type": "markdown",
   "metadata": {},
   "source": [
    "Her udskriver vi alle nøgler i vores ordbog `h`.\n",
    "\n",
    "Lad os gå et skridt videre og lave en funktion der udskriver alle nøgler og tilhørende værdier for en ordbog:"
   ]
  },
  {
   "cell_type": "code",
   "execution_count": 42,
   "metadata": {
    "slideshow": {
     "slide_type": "-"
    }
   },
   "outputs": [],
   "source": [
    "def print_hist(h):\n",
    "    for c in h:\n",
    "        print(c, h[c])"
   ]
  },
  {
   "cell_type": "code",
   "execution_count": 43,
   "metadata": {
    "slideshow": {
     "slide_type": "-"
    }
   },
   "outputs": [
    {
     "name": "stdout",
     "output_type": "stream",
     "text": [
      "p 1\n",
      "a 1\n",
      "r 2\n",
      "o 1\n",
      "t 1\n"
     ]
    }
   ],
   "source": [
    "h = histogram('parrot')\n",
    "print_hist(h)"
   ]
  },
  {
   "cell_type": "markdown",
   "metadata": {
    "slideshow": {
     "slide_type": "-"
    }
   },
   "source": [
    "`for`-løkker gennemløber således *nøglerne* i en ordbog."
   ]
  },
  {
   "cell_type": "markdown",
   "metadata": {
    "slideshow": {
     "slide_type": "subslide"
    }
   },
   "source": [
    "Som nævnt tidligere, kan vi ikke være sikker på rækkefølgen af elementer i en ordbog.  \n",
    "Derfor, hvis man gerne vil have dem i sorteret rækkefølge, kan man bruge den indbyggede funktion `sorted`:"
   ]
  },
  {
   "cell_type": "code",
   "execution_count": 16,
   "metadata": {
    "slideshow": {
     "slide_type": "-"
    }
   },
   "outputs": [
    {
     "name": "stdout",
     "output_type": "stream",
     "text": [
      "a 1\n",
      "o 1\n",
      "p 1\n",
      "r 2\n",
      "t 1\n"
     ]
    }
   ],
   "source": [
    "for key in sorted(h):\n",
    "    print(key, h[key])"
   ]
  },
  {
   "cell_type": "markdown",
   "metadata": {},
   "source": [
    "## Opgave 3\n",
    "\n",
    "Brug `histogram`-funktionen på dit fulde navn og udskriv antallet af forekomster af bogstaverne i alfabetisk rækkefølge."
   ]
  },
  {
   "cell_type": "code",
   "execution_count": null,
   "metadata": {},
   "outputs": [],
   "source": []
  },
  {
   "cell_type": "markdown",
   "metadata": {},
   "source": [
    "Se svaret ved at klikke på \"...\" herunder. Men prøv først selv om du kan løse opgaven uden hjælp."
   ]
  },
  {
   "cell_type": "code",
   "execution_count": 84,
   "metadata": {
    "jupyter": {
     "source_hidden": true
    },
    "tags": []
   },
   "outputs": [
    {
     "name": "stdout",
     "output_type": "stream",
     "text": [
      "  2\n",
      "e 4\n",
      "i 2\n",
      "j 2\n",
      "l 1\n",
      "m 2\n",
      "n 3\n",
      "s 3\n",
      "y 1\n"
     ]
    }
   ],
   "source": [
    "h_name = histogram('Jimmy Jessen Nielsen'.lower())\n",
    "for key in sorted(h_name):\n",
    "    print(key, h_name[key])"
   ]
  },
  {
   "cell_type": "markdown",
   "metadata": {
    "slideshow": {
     "slide_type": "subslide"
    }
   },
   "source": [
    "## Omvendt opslag\n",
    "Når vi har en ordbog `d` og en nøgle `k`, er det ingen sag at slå den tilhørende værdi op: `v = d[k]`.\n",
    "- Til gengæld kan vi ikke umiddelbart slå en værdi op og få at vide, hvilke(n) nøgle(r), den optræder ved.\n",
    "- Hvis vi vil det, er vi nødt til at søge efter værdien ved at gennemløbe alle nøgle-værdi par. Denne operation kaldes *reverse lookup*.\n",
    "Dette kunne f.eks. gøres ved:"
   ]
  },
  {
   "cell_type": "code",
   "execution_count": 85,
   "metadata": {
    "slideshow": {
     "slide_type": "-"
    }
   },
   "outputs": [],
   "source": [
    "def reverse_lookup(d, v):\n",
    "    for k in d: # Gennemløb alle nøgler i ordbog\n",
    "        if d[k] == v: # Er værdien gemt ved nøglen k?\n",
    "            return k\n",
    "    raise LookupError()"
   ]
  },
  {
   "cell_type": "markdown",
   "metadata": {
    "slideshow": {
     "slide_type": "-"
    }
   },
   "source": [
    "Her får vi lige introduceret en ny detalje i forbifarten: `raise`. Denne kan bruges til at gøre opmærksom på, at der sker en fejl."
   ]
  },
  {
   "cell_type": "markdown",
   "metadata": {
    "slideshow": {
     "slide_type": "subslide"
    }
   },
   "source": [
    "Lad os prøve at bruge funktionen til omvendt opslag. Først laver vi vha. `histogram` en ordbog at slå op i, og så prøver vi at se om nogle bogstaver har to forekomster:"
   ]
  },
  {
   "cell_type": "code",
   "execution_count": 86,
   "metadata": {
    "slideshow": {
     "slide_type": "-"
    }
   },
   "outputs": [
    {
     "data": {
      "text/plain": [
       "'r'"
      ]
     },
     "execution_count": 86,
     "metadata": {},
     "output_type": "execute_result"
    }
   ],
   "source": [
    "h = histogram('parrot')\n",
    "key = reverse_lookup(h, 2)\n",
    "key"
   ]
  },
  {
   "cell_type": "markdown",
   "metadata": {},
   "source": [
    "Vi fandt at 'r' har to forekomster."
   ]
  },
  {
   "cell_type": "markdown",
   "metadata": {
    "slideshow": {
     "slide_type": "subslide"
    }
   },
   "source": [
    "Hvis vi slår noget op, som ikke findes i ordbogen:"
   ]
  },
  {
   "cell_type": "code",
   "execution_count": 87,
   "metadata": {
    "slideshow": {
     "slide_type": "-"
    }
   },
   "outputs": [
    {
     "ename": "LookupError",
     "evalue": "",
     "output_type": "error",
     "traceback": [
      "\u001b[0;31m---------------------------------------------------------------------------\u001b[0m",
      "\u001b[0;31mLookupError\u001b[0m                               Traceback (most recent call last)",
      "\u001b[0;32m/tmp/ipykernel_43578/1573847364.py\u001b[0m in \u001b[0;36m<module>\u001b[0;34m\u001b[0m\n\u001b[0;32m----> 1\u001b[0;31m \u001b[0mkey\u001b[0m \u001b[0;34m=\u001b[0m \u001b[0mreverse_lookup\u001b[0m\u001b[0;34m(\u001b[0m\u001b[0mh\u001b[0m\u001b[0;34m,\u001b[0m \u001b[0;36m3\u001b[0m\u001b[0;34m)\u001b[0m\u001b[0;34m\u001b[0m\u001b[0;34m\u001b[0m\u001b[0m\n\u001b[0m",
      "\u001b[0;32m/tmp/ipykernel_43578/2077059665.py\u001b[0m in \u001b[0;36mreverse_lookup\u001b[0;34m(d, v)\u001b[0m\n\u001b[1;32m      3\u001b[0m         \u001b[0;32mif\u001b[0m \u001b[0md\u001b[0m\u001b[0;34m[\u001b[0m\u001b[0mk\u001b[0m\u001b[0;34m]\u001b[0m \u001b[0;34m==\u001b[0m \u001b[0mv\u001b[0m\u001b[0;34m:\u001b[0m \u001b[0;31m# Er værdien gemt ved nøglen k?\u001b[0m\u001b[0;34m\u001b[0m\u001b[0;34m\u001b[0m\u001b[0m\n\u001b[1;32m      4\u001b[0m             \u001b[0;32mreturn\u001b[0m \u001b[0mk\u001b[0m\u001b[0;34m\u001b[0m\u001b[0;34m\u001b[0m\u001b[0m\n\u001b[0;32m----> 5\u001b[0;31m     \u001b[0;32mraise\u001b[0m \u001b[0mLookupError\u001b[0m\u001b[0;34m(\u001b[0m\u001b[0;34m)\u001b[0m\u001b[0;34m\u001b[0m\u001b[0;34m\u001b[0m\u001b[0m\n\u001b[0m",
      "\u001b[0;31mLookupError\u001b[0m: "
     ]
    }
   ],
   "source": [
    "key = reverse_lookup(h, 3)"
   ]
  },
  {
   "cell_type": "markdown",
   "metadata": {},
   "source": [
    "får vi den `LookupError` som vi har bedt om at få udstedt gennem `raise`-kommandoen når en værdi ikke findes. Det er selvfølgelig ikke særlig produktivt at programmet fejler, så lad os se hvordan vi kan arbejde med sådanne fejlmeldinger."
   ]
  },
  {
   "cell_type": "markdown",
   "metadata": {},
   "source": [
    "## Håndtering af fejl\n",
    "\n",
    "I python kan man håndtere fejl i et program ved at bruge en `try`-`except`-konstruktion. Fordelen ved at håndtere fejl er at programmet ikke crasher når der opstår en fejl, men at man kan håndtere fejlen på en fornuftig måde i sit program. Lad os se nærmere på hvordan vi gør."
   ]
  },
  {
   "cell_type": "markdown",
   "metadata": {
    "slideshow": {
     "slide_type": "subslide"
    }
   },
   "source": [
    "### Fejlhåndtering I\n",
    "\n",
    "- Den overordnede struktur for en `try`-`except` blok minder på mange måder om en `if`-`else` konstruktion, men med nogle andre ord:\n",
    "\n",
    "    ```\n",
    "    try:\n",
    "        <kodeblok 0> # Hvad vi gerne vil gøre\n",
    "    except:\n",
    "        <kodeblok 1> # Hvad vi skal gøre hvis der opstår en fejl\n",
    "    ```\n",
    "\n",
    "\n",
    "-   Programmet vil først forsøge at afvikle koden i kodeblok 0.\n",
    "-   Hvis der sker en fejl, vil Python melde fejl (det hedder *throw* eller *raise* exception på engelsk), afbryde hvad den var i gang med i kodeblok 0 og gå direkte videre til afvikling af koden i kodeblok 1."
   ]
  },
  {
   "cell_type": "markdown",
   "metadata": {},
   "source": [
    "Vi kan udvide `reverse_lookup`-eksemplet fra før med fejlhåndtering på følgende måde:"
   ]
  },
  {
   "cell_type": "code",
   "execution_count": 88,
   "metadata": {},
   "outputs": [
    {
     "name": "stdout",
     "output_type": "stream",
     "text": [
      "Værdien kan ikke findes, prøv en anden værdi.\n"
     ]
    }
   ],
   "source": [
    "try: \n",
    "    key = reverse_lookup(h, 3)\n",
    "except: \n",
    "    print('Værdien kan ikke findes, prøv en anden værdi.')"
   ]
  },
  {
   "cell_type": "markdown",
   "metadata": {},
   "source": [
    "Nu melder Python ikke længere fejl, men vores program udskriver selv en fejlmelding når fejlen opstår. Man kalder dette at gribe eller fange fejlen (*catch exception* på engelsk)."
   ]
  },
  {
   "cell_type": "markdown",
   "metadata": {
    "slideshow": {
     "slide_type": "subslide"
    }
   },
   "source": [
    "## Fejlhåndtering II\n",
    "\n",
    "- Hvis vi risikerer at få forskellige typer af fejl kan vi også håndtere dem forskelligt ved at angive dem for hver `except`-blok. Derudover er det også muligt at få udført noget kode hvis der ikke er fejl eller altid at få udført noget kode til slut - uanset om der er fejl eller ej. \n",
    "\n",
    "- Den komplette struktur er hermed:\n",
    "\n",
    "    ```\n",
    "    try:\n",
    "        <kodeblok 0> # Hvad vi gerne vil gøre (hvor der kan opstå fejl).\n",
    "    except ErrorType1:\n",
    "        <kodeblok 1> # Hvad vi skal gøre hvis der opstår en fejl af type 1?\n",
    "    except ErrorType2:\n",
    "        <kodeblok 2> # Hvad vi skal gøre hvis der opstår en fejl af type 2?\n",
    "        ...\n",
    "    except:\n",
    "        <kodeblok n> # Hvad vi skal gøre hvis der opstår en fejl af en anden (uspecificeret) type?\n",
    "    else:\n",
    "        <kodeblok E> # Hvad vi skal gøre hvis der ikke opstod nogen fejl?\n",
    "    finally:\n",
    "        <kodeblok F> # Bliver altid kørt uanset om der er opstået en fejl eller ej.\n",
    "    ```\n",
    "\n",
    "Det afhænger meget af situationen om man behøver at fange flere forskellige fejltyper og om man behøver at inkludere `else` eller `finally`-blokke.\n",
    "\n",
    "Men i `reverse_lookup`-eksemplet kan det give mening, så lad os prøve at udvide eksemplet til dels at fange den specifikke fejl `LookupError` og ved at spørge brugeren om hvilken værdi der skal findes:"
   ]
  },
  {
   "cell_type": "code",
   "execution_count": null,
   "metadata": {
    "slideshow": {
     "slide_type": "-"
    }
   },
   "outputs": [],
   "source": [
    "d = {'a': 1, 'b': 2} # Simpel ordbog til test\n",
    "\n",
    "val = input('Hvilken værdi vil du finde: ')\n",
    "\n",
    "try: \n",
    "    key = reverse_lookup(d, int(val))\n",
    "except LookupError: \n",
    "    print('Værdien kan ikke findes, prøv en anden værdi.')\n",
    "except ValueError: \n",
    "    print('Værdien er ikke et heltal, prøv en anden værdi.')\n",
    "except:\n",
    "    print('Der er opstået en uventet fejl.')\n",
    "else:\n",
    "    print(f'Nøglen er: {key}')\n",
    "finally:\n",
    "    print('Programmet er slut. Hav en god dag!')"
   ]
  },
  {
   "cell_type": "markdown",
   "metadata": {
    "slideshow": {
     "slide_type": "-"
    }
   },
   "source": [
    "for key in sorted(h):\n",
    "    print(key, h[key])Afprøv programmet og se hvordan du kan få det til at give et forskelligt svar alt efter hvilken fejl der er opstået. (Hint: for at fremprovokere en uventet fejl kan I eks. ændre input til `reverse_lookup`-funktionen til en ikke-eksisterede variabel.\n",
    "\n",
    "- Nogle typiske fejl der kan opstå i Python er: `SyntaxError`, `NameError`, `TypeError`,\n",
    "    `ValueError`, `IndexError`.\n",
    "- Husk at du kan definere dine egne fejltyper med `raise`-kommandoen, som det blev gjort i `reverse_lookup`-funktionen ovenfor."
   ]
  },
  {
   "cell_type": "markdown",
   "metadata": {},
   "source": [
    "## Opgave 4\n",
    "\n",
    "Udvid nedenstående kode til at håndtere de forskellige fejl der kan opstå. Afprøv de følgende forskellige nøgler og lav en except-blok for hver af følgende fejltyper hvor du printer en passende besked til brugeren, og sørger for at \"Antal forekomster\" kun udskrives hvis der ikke var en fejl: \n",
    "- `key='b'` \n",
    "- `key=[10]` "
   ]
  },
  {
   "cell_type": "code",
   "execution_count": 90,
   "metadata": {},
   "outputs": [
    {
     "name": "stdout",
     "output_type": "stream",
     "text": [
      "Antal forekomster: 2\n"
     ]
    }
   ],
   "source": [
    "h = histogram('kartoffel')\n",
    "key = 'f'\n",
    "\n",
    "# Tilføj try-except i det nedenstående:\n",
    "val = h[key]\n",
    "print(f'Antal forekomster: {val}')\n"
   ]
  },
  {
   "cell_type": "code",
   "execution_count": 120,
   "metadata": {},
   "outputs": [],
   "source": [
    "# Revideret udgave herunder:\n"
   ]
  },
  {
   "cell_type": "markdown",
   "metadata": {},
   "source": [
    "Se svaret ved at klikke på \"...\" herunder. Men prøv først selv om du kan løse opgaven uden hjælp."
   ]
  },
  {
   "cell_type": "code",
   "execution_count": 97,
   "metadata": {
    "jupyter": {
     "source_hidden": true
    },
    "tags": []
   },
   "outputs": [
    {
     "name": "stdout",
     "output_type": "stream",
     "text": [
      "Antal forekomster: 2\n"
     ]
    }
   ],
   "source": [
    "# Revideret udgave herunder:\n",
    "h = histogram('kartoffel')\n",
    "#key = 'b'\n",
    "key = [10]\n",
    "\n",
    "# Tilføj try-except i det nedenstående:\n",
    "try:\n",
    "    val = h[key]\n",
    "except KeyError:\n",
    "    print('Key not found')\n",
    "except TypeError:\n",
    "    print('Unsupported data type')\n",
    "else:\n",
    "    print(f'Antal forekomster: {val}')\n"
   ]
  },
  {
   "cell_type": "markdown",
   "metadata": {
    "slideshow": {
     "slide_type": "subslide"
    }
   },
   "source": [
    "## Ordbøger og lister\n",
    "\n",
    "Lister kan optræde som værdier i en ordbog. Lad os som et eksempel på brug af lister i en ordbog se på at lave den \"inverse\" ordbog af et histogram som vi har brugt ovenfor.  \n",
    "Dvs. en ordbog, som man kan foretage \"bagvendte opslag\" i - lidt på samme måde som funktionen `reverse_lookup` gav os adgang til (hvis koden er svær at gennemskue, så se hvordan den virker i de efterfølgende eksempler)."
   ]
  },
  {
   "cell_type": "code",
   "execution_count": 64,
   "metadata": {
    "slideshow": {
     "slide_type": "-"
    }
   },
   "outputs": [],
   "source": [
    "def invert_dict(d):\n",
    "    inverse = dict()\n",
    "    for key in d:\n",
    "        val = d[key]\n",
    "        if val not in inverse:\n",
    "            inverse[val] = [key]\n",
    "        else:\n",
    "            inverse[val].append(key)\n",
    "    return inverse"
   ]
  },
  {
   "cell_type": "markdown",
   "metadata": {
    "slideshow": {
     "slide_type": "-"
    }
   },
   "source": [
    "Fordi flere nøgler godt kan have den samme værdi, bruger vi nu lister indeni inverse ordbog til at indeholde alle de nøgler, der hører til en bestemt værdi."
   ]
  },
  {
   "cell_type": "markdown",
   "metadata": {
    "slideshow": {
     "slide_type": "subslide"
    }
   },
   "source": [
    "Lad os se et eksempel på invertering af en ordbog. Først laver vi et histogram som tidligere:"
   ]
  },
  {
   "cell_type": "code",
   "execution_count": 65,
   "metadata": {
    "slideshow": {
     "slide_type": "-"
    }
   },
   "outputs": [
    {
     "data": {
      "text/plain": [
       "{'p': 1, 'a': 1, 'r': 2, 'o': 1, 't': 1}"
      ]
     },
     "execution_count": 65,
     "metadata": {},
     "output_type": "execute_result"
    }
   ],
   "source": [
    "hist = histogram('parrot')\n",
    "hist"
   ]
  },
  {
   "cell_type": "markdown",
   "metadata": {},
   "source": [
    "Nu prøver vi at invertere den:"
   ]
  },
  {
   "cell_type": "code",
   "execution_count": 66,
   "metadata": {
    "slideshow": {
     "slide_type": "-"
    }
   },
   "outputs": [
    {
     "data": {
      "text/plain": [
       "{1: ['p', 'a', 'o', 't'], 2: ['r']}"
      ]
     },
     "execution_count": 66,
     "metadata": {},
     "output_type": "execute_result"
    }
   ],
   "source": [
    "inverse = invert_dict(hist)\n",
    "inverse"
   ]
  },
  {
   "cell_type": "markdown",
   "metadata": {},
   "source": [
    "Her kan vi se at bogstaverne der forekommer en gang er *p*, *a*, *o*, og *t* og kun *r* har to forekomster. Bemærk hvordan de er gemt i en liste hver."
   ]
  },
  {
   "cell_type": "markdown",
   "metadata": {
    "slideshow": {
     "slide_type": "subslide"
    }
   },
   "source": [
    "Vi kan dog ikke bruge lister som nøgler i en ordbog. Hvis vi prøver, sker følgende:"
   ]
  },
  {
   "cell_type": "code",
   "execution_count": 26,
   "metadata": {
    "slideshow": {
     "slide_type": "-"
    }
   },
   "outputs": [
    {
     "ename": "TypeError",
     "evalue": "unhashable type: 'list'",
     "output_type": "error",
     "traceback": [
      "\u001b[0;31m---------------------------------------------------------------------------\u001b[0m",
      "\u001b[0;31mTypeError\u001b[0m                                 Traceback (most recent call last)",
      "\u001b[0;32m/var/folders/m0/qdb3sfgd3qbbz8xv0ht7blz00000gn/T/ipykernel_5907/4205075499.py\u001b[0m in \u001b[0;36m<module>\u001b[0;34m\u001b[0m\n\u001b[1;32m      1\u001b[0m \u001b[0mt\u001b[0m \u001b[0;34m=\u001b[0m \u001b[0;34m[\u001b[0m\u001b[0;36m1\u001b[0m\u001b[0;34m,\u001b[0m \u001b[0;36m2\u001b[0m\u001b[0;34m,\u001b[0m \u001b[0;36m3\u001b[0m\u001b[0;34m]\u001b[0m\u001b[0;34m\u001b[0m\u001b[0;34m\u001b[0m\u001b[0m\n\u001b[1;32m      2\u001b[0m \u001b[0md\u001b[0m \u001b[0;34m=\u001b[0m \u001b[0mdict\u001b[0m\u001b[0;34m(\u001b[0m\u001b[0;34m)\u001b[0m\u001b[0;34m\u001b[0m\u001b[0;34m\u001b[0m\u001b[0m\n\u001b[0;32m----> 3\u001b[0;31m \u001b[0md\u001b[0m\u001b[0;34m[\u001b[0m\u001b[0mt\u001b[0m\u001b[0;34m]\u001b[0m \u001b[0;34m=\u001b[0m \u001b[0;34m'oops'\u001b[0m\u001b[0;34m\u001b[0m\u001b[0;34m\u001b[0m\u001b[0m\n\u001b[0m",
      "\u001b[0;31mTypeError\u001b[0m: unhashable type: 'list'"
     ]
    }
   ],
   "source": [
    "t = [1, 2, 3]\n",
    "d = dict()\n",
    "d[t] = 'oops'"
   ]
  },
  {
   "cell_type": "markdown",
   "metadata": {
    "slideshow": {
     "slide_type": "-"
    }
   },
   "source": [
    "#### Lidt baggrundsviden:\n",
    "Ordbøger er implementeret vha. en datastruktur, som kaldes en *hashtable*.  \n",
    "Af denne grund skal nøgler i ordbøger være \"hash-bare\". Det indebærer bl.a., at de ikke må være mutérbare. Lister er mutérbare (de kan ændres efter oprettelse), så de dur ikke.\n",
    "\n",
    "Tupler, som vi kigger på lidt senere i dette worksheet, kan godt være nøgler i ordbøger. De er immutérbare og dermed \"hash-bare\"."
   ]
  },
  {
   "cell_type": "markdown",
   "metadata": {},
   "source": [
    "## Opgave 5\n",
    "\n",
    "Opret en ordbog `navne` med to nøgler: 'piger' og 'drenge', og hvor værdien til hver af nøglerne er en liste af pige- og drengenavne, eks:\n",
    "\n",
    "- piger: Anna, Birthe, Camilla\n",
    "- drenge: Dennis, Erik, Frederik\n",
    "\n",
    "Lav kode der skriver navnene ud fra denne ordbog, med et navn på hver linje."
   ]
  },
  {
   "cell_type": "code",
   "execution_count": null,
   "metadata": {},
   "outputs": [],
   "source": []
  },
  {
   "cell_type": "markdown",
   "metadata": {},
   "source": [
    "Se svaret ved at klikke på \"...\" herunder. Men prøv først selv om du kan løse opgaven uden hjælp."
   ]
  },
  {
   "cell_type": "code",
   "execution_count": 104,
   "metadata": {
    "jupyter": {
     "source_hidden": true
    },
    "tags": []
   },
   "outputs": [
    {
     "name": "stdout",
     "output_type": "stream",
     "text": [
      "Anna\n",
      "Birthe\n",
      "Camilla\n",
      "Dennis\n",
      "Erik\n",
      "Frederik\n"
     ]
    }
   ],
   "source": [
    "navne = {'piger':['Anna','Birthe','Camilla'], 'drenge':['Dennis','Erik','Frederik']}\n",
    "for navneliste in navne.values():\n",
    "    for navn in navneliste:\n",
    "        print(navn)"
   ]
  },
  {
   "attachments": {
    "fibonacci.png": {
     "image/png": "[encoded data removed]"
    }
   },
   "cell_type": "markdown",
   "metadata": {
    "slideshow": {
     "slide_type": "subslide"
    }
   },
   "source": [
    "## Eksempel på anvendelse af ordbog: Memoisering\n",
    "*Dette afsnit er blot et eksempel på en anvendelse af ordbøger, som kan springes over hvis tiden er knap.*\n",
    "\n",
    "Især for rekursive funktioner kan nogle funktioner komme til at tage meget lang tid at køre, f.eks. afhængig af, hvor stort et argument, man kører dem med.\n",
    "- Et eksempel er Fibonacci-funktionen som vi har kigget på tidligere.\n",
    "![fibonacci.png](attachment:fibonacci.png)\n",
    "- Som vi kan se i eksemplet laver vi udregning af undertrået for $n=2$ mere end én gang, hvilket er spild af resurser i vores computer. For større startværdier $n>4$, vil resursespildet være endnu mere udtalt."
   ]
  },
  {
   "cell_type": "markdown",
   "metadata": {
    "slideshow": {
     "slide_type": "subslide"
    }
   },
   "source": [
    "Én løsning på dette problem kan være at gemme funktionsværdier vi udregner så vi kan hente resultatet uden at beregne det igen. \n",
    "- Vi kan bruge en ordbog til at gemme sådanne værdier:"
   ]
  },
  {
   "cell_type": "code",
   "execution_count": 1,
   "metadata": {
    "slideshow": {
     "slide_type": "-"
    }
   },
   "outputs": [],
   "source": [
    "known = {0:0, 1:1}\n",
    "\n",
    "def fibonacci_ny(n):\n",
    "    if n in known:\n",
    "        return known[n]\n",
    "    res = fibonacci_ny(n-1) + fibonacci_ny(n-2)\n",
    "    known[n] = res\n",
    "    return res"
   ]
  },
  {
   "cell_type": "markdown",
   "metadata": {},
   "source": [
    "Vi kan afprøve programmet for forskellige værdåer af $n$ og se hvordan ordbogen `known` udvides med de kendte værdier:"
   ]
  },
  {
   "cell_type": "code",
   "execution_count": 3,
   "metadata": {},
   "outputs": [
    {
     "name": "stdout",
     "output_type": "stream",
     "text": [
      "{0: 0, 1: 1}\n",
      "{0: 0, 1: 1, 2: 1, 3: 2}\n",
      "{0: 0, 1: 1, 2: 1, 3: 2, 4: 3, 5: 5}\n"
     ]
    }
   ],
   "source": [
    "print(known)\n",
    "fibonacci_ny(3)\n",
    "print(known)\n",
    "fibonacci_ny(5)\n",
    "print(known)"
   ]
  },
  {
   "cell_type": "markdown",
   "metadata": {},
   "source": [
    "Vi kan prøve at sammenligne hvor stor en reduktion i afviklingstid vi får ved at bruge en indbygget kommando til at måle tid kaldet `timeit`. For at kunne lave en sammenligning er vi nødt til at definere den simple Fibonacci-funktion:"
   ]
  },
  {
   "cell_type": "code",
   "execution_count": 16,
   "metadata": {},
   "outputs": [],
   "source": [
    "def fibonacci(n):\n",
    "    if n < 2:\n",
    "        return n\n",
    "    return fibonacci(n-1) + fibonacci(n-2)"
   ]
  },
  {
   "cell_type": "markdown",
   "metadata": {},
   "source": [
    "Bemærk at `timeit`-kommandoen tager lidt tid at bruge da den kører funktionen mange gange og udregner middelværdi m.m. Typisk tager det 5-10 sek."
   ]
  },
  {
   "cell_type": "code",
   "execution_count": 20,
   "metadata": {},
   "outputs": [
    {
     "name": "stdout",
     "output_type": "stream",
     "text": [
      "352 ms ± 3.52 ms per loop (mean ± std. dev. of 7 runs, 1 loop each)\n"
     ]
    }
   ],
   "source": [
    "%timeit fibonacci(31)"
   ]
  },
  {
   "cell_type": "code",
   "execution_count": 21,
   "metadata": {},
   "outputs": [
    {
     "name": "stdout",
     "output_type": "stream",
     "text": [
      "89.1 ns ± 1.63 ns per loop (mean ± std. dev. of 7 runs, 10000000 loops each)\n"
     ]
    }
   ],
   "source": [
    "%timeit fibonacci_ny(31)"
   ]
  },
  {
   "cell_type": "markdown",
   "metadata": {},
   "source": [
    "På min computer reduceres afviklingstiden fra $0.350$ sekund til $0.0001$ sekund, hvilket er en forbedring på mange tusinde procent."
   ]
  },
  {
   "cell_type": "markdown",
   "metadata": {
    "slideshow": {
     "slide_type": "subslide"
    }
   },
   "source": [
    "## Globale variable\n",
    "I det foregående eksempel med en variabel (`known`) defineret udenfor funktionen har vi en variabel, som er oprettet i den \"øverste\" programkontekst - kaldet `__main__`. Variable på dette niveau kan ses af alle funktioner.\n",
    "- Dette er i modsætning til lokale variable som defineres inden i funktioner og \"forsvinder\", når deres funktion er slut. Dette kiggede vi på tilbage i lektion 2.\n",
    "- Globale variable beholder deres indhold mellem funktionskald.\n",
    "- Det er almindeligt at bruge globale variable til såkaldte \"flag\" - indstillinger, som bruges til at slå fælles indstillinger til eller fra."
   ]
  },
  {
   "cell_type": "markdown",
   "metadata": {},
   "source": [
    "Lad os prøve et eksempel hvor vi tilgår en global variabel:"
   ]
  },
  {
   "cell_type": "code",
   "execution_count": 24,
   "metadata": {
    "slideshow": {
     "slide_type": "-"
    }
   },
   "outputs": [
    {
     "name": "stdout",
     "output_type": "stream",
     "text": [
      "Running example1\n"
     ]
    }
   ],
   "source": [
    "verbose = True\n",
    "def example1():\n",
    "    if verbose:\n",
    "        print('Running example1')\n",
    "        \n",
    "example1()"
   ]
  },
  {
   "cell_type": "markdown",
   "metadata": {
    "slideshow": {
     "slide_type": "subslide"
    }
   },
   "source": [
    "Hvis vi vil ændre på indholdet af en global variabel kan vi godt komme galt afsted. Lad os studere det følgende eksempel:"
   ]
  },
  {
   "cell_type": "code",
   "execution_count": 27,
   "metadata": {
    "slideshow": {
     "slide_type": "-"
    }
   },
   "outputs": [],
   "source": [
    "been_called = False\n",
    "def example2():\n",
    "    been_called = True  # WRONG"
   ]
  },
  {
   "cell_type": "code",
   "execution_count": 28,
   "metadata": {
    "slideshow": {
     "slide_type": "-"
    }
   },
   "outputs": [
    {
     "name": "stdout",
     "output_type": "stream",
     "text": [
      "False\n"
     ]
    }
   ],
   "source": [
    "example2()\n",
    "print(been_called)"
   ]
  },
  {
   "cell_type": "markdown",
   "metadata": {
    "slideshow": {
     "slide_type": "fragment"
    }
   },
   "source": [
    "Selvom vi forsøgte at ændre værdien af den globale variabel `been_called` til `True` er den mod forventning ikke ændret inde i `example2()`-funktionen. \n",
    "\n",
    "Når vi på denne måde prøver at tildele en værdi til en global variabel inde i en funktion, bliver der blot oprettet en ny lokal variabel af samme navn, som forsvinder, når funktionen ender."
   ]
  },
  {
   "cell_type": "markdown",
   "metadata": {
    "slideshow": {
     "slide_type": "subslide"
    }
   },
   "source": [
    "For at få adgang til at ændre en global variabel inde fra en funktion, skal vi først erklære den med nøgleordet `global` inde i funktionen. Dermed fortæller vi eksplicit at det er den globale variabel vi vil arbejde på."
   ]
  },
  {
   "cell_type": "code",
   "execution_count": 31,
   "metadata": {
    "slideshow": {
     "slide_type": "-"
    }
   },
   "outputs": [],
   "source": [
    "been_called = False\n",
    "def example2():\n",
    "    global been_called\n",
    "    been_called = True  # WRONG"
   ]
  },
  {
   "cell_type": "code",
   "execution_count": 29,
   "metadata": {
    "slideshow": {
     "slide_type": "-"
    }
   },
   "outputs": [
    {
     "data": {
      "text/plain": [
       "False"
      ]
     },
     "execution_count": 29,
     "metadata": {},
     "output_type": "execute_result"
    }
   ],
   "source": [
    "example2()\n",
    "been_called"
   ]
  },
  {
   "cell_type": "markdown",
   "metadata": {
    "slideshow": {
     "slide_type": "subslide"
    }
   },
   "source": [
    "Lad os se et andet eksempel, som demonstrerer, at variable oprettet i funktioner \"overskygger\" globale variable af samme navn:"
   ]
  },
  {
   "cell_type": "code",
   "execution_count": 30,
   "metadata": {
    "slideshow": {
     "slide_type": "-"
    }
   },
   "outputs": [],
   "source": [
    "count = 0\n",
    "def example3():\n",
    "    count = count + 1  # WRONG"
   ]
  },
  {
   "cell_type": "code",
   "execution_count": 31,
   "metadata": {
    "slideshow": {
     "slide_type": "-"
    }
   },
   "outputs": [
    {
     "ename": "UnboundLocalError",
     "evalue": "local variable 'count' referenced before assignment",
     "output_type": "error",
     "traceback": [
      "\u001b[0;31m---------------------------------------------------------------------------\u001b[0m",
      "\u001b[0;31mUnboundLocalError\u001b[0m                         Traceback (most recent call last)",
      "\u001b[0;32m/tmp/ipykernel_43578/3305567964.py\u001b[0m in \u001b[0;36m<module>\u001b[0;34m\u001b[0m\n\u001b[0;32m----> 1\u001b[0;31m \u001b[0mexample3\u001b[0m\u001b[0;34m(\u001b[0m\u001b[0;34m)\u001b[0m\u001b[0;34m\u001b[0m\u001b[0;34m\u001b[0m\u001b[0m\n\u001b[0m",
      "\u001b[0;32m/tmp/ipykernel_43578/3013210509.py\u001b[0m in \u001b[0;36mexample3\u001b[0;34m()\u001b[0m\n\u001b[1;32m      1\u001b[0m \u001b[0mcount\u001b[0m \u001b[0;34m=\u001b[0m \u001b[0;36m0\u001b[0m\u001b[0;34m\u001b[0m\u001b[0;34m\u001b[0m\u001b[0m\n\u001b[1;32m      2\u001b[0m \u001b[0;32mdef\u001b[0m \u001b[0mexample3\u001b[0m\u001b[0;34m(\u001b[0m\u001b[0;34m)\u001b[0m\u001b[0;34m:\u001b[0m\u001b[0;34m\u001b[0m\u001b[0;34m\u001b[0m\u001b[0m\n\u001b[0;32m----> 3\u001b[0;31m     \u001b[0mcount\u001b[0m \u001b[0;34m=\u001b[0m \u001b[0mcount\u001b[0m \u001b[0;34m+\u001b[0m \u001b[0;36m1\u001b[0m  \u001b[0;31m# WRONG\u001b[0m\u001b[0;34m\u001b[0m\u001b[0;34m\u001b[0m\u001b[0m\n\u001b[0m",
      "\u001b[0;31mUnboundLocalError\u001b[0m: local variable 'count' referenced before assignment"
     ]
    }
   ],
   "source": [
    "example3()"
   ]
  },
  {
   "cell_type": "markdown",
   "metadata": {
    "slideshow": {
     "slide_type": "subslide"
    }
   },
   "source": [
    "Så snart vi opretter variablen `count` i funktionen `example3`, bliver den opfattet som en lokal variabel.  \n",
    "Som sådan eksisterer den ikke i forvejen, og derfor kan vi ikke tilgå dens hidtidige værdi og lægge 1 til den.\n",
    "Igen vil løsningen være, at erklære `count` global, hvis vi ønsker adgang til den:"
   ]
  },
  {
   "cell_type": "code",
   "execution_count": 32,
   "metadata": {
    "slideshow": {
     "slide_type": "-"
    }
   },
   "outputs": [],
   "source": [
    "def example3():\n",
    "    global count\n",
    "    count = count + 1"
   ]
  },
  {
   "cell_type": "code",
   "execution_count": 33,
   "metadata": {
    "slideshow": {
     "slide_type": "fragment"
    }
   },
   "outputs": [
    {
     "data": {
      "text/plain": [
       "1"
      ]
     },
     "execution_count": 33,
     "metadata": {},
     "output_type": "execute_result"
    }
   ],
   "source": [
    "example3()\n",
    "count"
   ]
  },
  {
   "cell_type": "markdown",
   "metadata": {
    "slideshow": {
     "slide_type": "subslide"
    }
   },
   "source": [
    "Hvis en global variabel ikke i sig selv indeholder en værdi, men *refererer* til en mutérbar værdi - tænk, via en datastruktur som liste eller ordbog - så kan den godt modificeres direkte fra en funktion."
   ]
  },
  {
   "cell_type": "code",
   "execution_count": 105,
   "metadata": {
    "slideshow": {
     "slide_type": "-"
    }
   },
   "outputs": [],
   "source": [
    "ages = {'Anna':17, 'Birthe':18}\n",
    "def example4():\n",
    "    ages['Anna'] = 18"
   ]
  },
  {
   "cell_type": "code",
   "execution_count": 106,
   "metadata": {
    "slideshow": {
     "slide_type": "-"
    }
   },
   "outputs": [
    {
     "data": {
      "text/plain": [
       "{'Anna': 18, 'Birthe': 18}"
      ]
     },
     "execution_count": 106,
     "metadata": {},
     "output_type": "execute_result"
    }
   ],
   "source": [
    "example4()\n",
    "ages"
   ]
  },
  {
   "cell_type": "markdown",
   "metadata": {},
   "source": [
    "Da `ages` bliver ved med at pege på den samme datastruktur (her en ordbog) anses denne operation ikke som en ændring af den globale variabel, selvom vi ændrer en værdi i ordbogen."
   ]
  },
  {
   "cell_type": "markdown",
   "metadata": {
    "slideshow": {
     "slide_type": "fragment"
    }
   },
   "source": [
    "Man kan således tilføje, ændre og udskifte elementer i en datastruktur direkte, men hvis man vil tildele en ny værdi (et nyt objekt) til variablen, skal den erklæres global:"
   ]
  },
  {
   "cell_type": "code",
   "execution_count": 109,
   "metadata": {
    "slideshow": {
     "slide_type": "-"
    }
   },
   "outputs": [
    {
     "data": {
      "text/plain": [
       "{}"
      ]
     },
     "execution_count": 109,
     "metadata": {},
     "output_type": "execute_result"
    }
   ],
   "source": [
    "def example5():\n",
    "    global ages\n",
    "    ages = dict()\n",
    "    \n",
    "example5()\n",
    "ages"
   ]
  },
  {
   "cell_type": "markdown",
   "metadata": {
    "slideshow": {
     "slide_type": "subslide"
    }
   },
   "source": [
    "### Opsummering på globale variable\n",
    "Globale variable kan være praktiske i enkelte sammenhænge.\n",
    "- De kan også gøre programmer vanskeligere at overskue og debugge, hvis globale variable modificeres fra forskellige funktioner.\n",
    "- Når f.eks. én funktion ændrer på en global variabel, kan det også ændre på, hvordan en anden funktion fungerer - måske utilsigtet.\n",
    "- Derfor bør globale variable bruges med omtanke og ofte helt undgås, da det let kan gå hen at gøre programmeringen langt mere kompliceret, end man egentlig havde tænkt sig.\n",
    "- Globale variable er aldrig nødvendige. I enkelte tilfælde kan de give mening, men som udgangspunkt skal I undgå dem."
   ]
  },
  {
   "cell_type": "markdown",
   "metadata": {
    "slideshow": {
     "slide_type": "slide"
    }
   },
   "source": [
    "# Del 2 - Tupler\n",
    "Tupler minder rigtig meget om lister. Vi kan faktisk tænke på dem som *immuterbare lister*, eller med andre ord, **en liste der ikke kan ændres efter den er oprettet**.  \n",
    "Tupler skrives som en sekvens af værdier adskilt af kommaer."
   ]
  },
  {
   "cell_type": "code",
   "execution_count": 43,
   "metadata": {
    "slideshow": {
     "slide_type": "-"
    }
   },
   "outputs": [
    {
     "data": {
      "text/plain": [
       "('a', 'b', 'c', 'd', 'e')"
      ]
     },
     "execution_count": 43,
     "metadata": {},
     "output_type": "execute_result"
    }
   ],
   "source": [
    "t = 'a', 'b', 'c', 'd', 'e'\n",
    "t"
   ]
  },
  {
   "cell_type": "markdown",
   "metadata": {
    "slideshow": {
     "slide_type": "fragment"
    }
   },
   "source": [
    "Der er tradition for at sætte parentes om tupler, så de er lettere at kende, men parenteserne er ikke nødvendige:"
   ]
  },
  {
   "cell_type": "code",
   "execution_count": 44,
   "metadata": {
    "slideshow": {
     "slide_type": "-"
    }
   },
   "outputs": [
    {
     "data": {
      "text/plain": [
       "('a', 'b', 'c', 'd', 'e')"
      ]
     },
     "execution_count": 44,
     "metadata": {},
     "output_type": "execute_result"
    }
   ],
   "source": [
    "t = ('a', 'b', 'c', 'd', 'e')\n",
    "t"
   ]
  },
  {
   "cell_type": "markdown",
   "metadata": {
    "slideshow": {
     "slide_type": "subslide"
    }
   },
   "source": [
    "En tupel med ét enkelt element skal stadig skrives med et komma:"
   ]
  },
  {
   "cell_type": "code",
   "execution_count": 45,
   "metadata": {
    "slideshow": {
     "slide_type": "-"
    }
   },
   "outputs": [
    {
     "data": {
      "text/plain": [
       "tuple"
      ]
     },
     "execution_count": 45,
     "metadata": {},
     "output_type": "execute_result"
    }
   ],
   "source": [
    "t1 = 'a',\n",
    "type(t1)"
   ]
  },
  {
   "cell_type": "markdown",
   "metadata": {
    "slideshow": {
     "slide_type": "fragment"
    }
   },
   "source": [
    "En enkelt værdi i parentes er ikke en tupel:"
   ]
  },
  {
   "cell_type": "code",
   "execution_count": 46,
   "metadata": {
    "slideshow": {
     "slide_type": "-"
    }
   },
   "outputs": [
    {
     "data": {
      "text/plain": [
       "str"
      ]
     },
     "execution_count": 46,
     "metadata": {},
     "output_type": "execute_result"
    }
   ],
   "source": [
    "t2 = ('a')\n",
    "type(t2)"
   ]
  },
  {
   "cell_type": "markdown",
   "metadata": {
    "slideshow": {
     "slide_type": "subslide"
    }
   },
   "source": [
    "Man kan også oprette en tupel med den indbyggede funktion `tuple`. F.eks. kan man oprette en tom tupel således:"
   ]
  },
  {
   "cell_type": "code",
   "execution_count": 47,
   "metadata": {
    "slideshow": {
     "slide_type": "-"
    }
   },
   "outputs": [
    {
     "data": {
      "text/plain": [
       "()"
      ]
     },
     "execution_count": 47,
     "metadata": {},
     "output_type": "execute_result"
    }
   ],
   "source": [
    "t = tuple()\n",
    "t"
   ]
  },
  {
   "cell_type": "markdown",
   "metadata": {
    "slideshow": {
     "slide_type": "fragment"
    }
   },
   "source": [
    "`tuple` tager som argument en sekvens af værdier (hvad som helst der kan forstås som en sekvens - en tekststreng, en liste etc.).  \n",
    "Den svarer dermed til funktionen `list` for lister:"
   ]
  },
  {
   "cell_type": "code",
   "execution_count": 48,
   "metadata": {},
   "outputs": [
    {
     "data": {
      "text/plain": [
       "('l', 'u', 'p', 'i', 'n', 's')"
      ]
     },
     "execution_count": 48,
     "metadata": {},
     "output_type": "execute_result"
    }
   ],
   "source": [
    "t = tuple('lupins')\n",
    "t"
   ]
  },
  {
   "cell_type": "markdown",
   "metadata": {
    "slideshow": {
     "slide_type": "subslide"
    }
   },
   "source": [
    "De fleste operatorer, vi kender fra lister, fungerer også på tupler. F.eks. indeks ind i tupler:"
   ]
  },
  {
   "cell_type": "code",
   "execution_count": 49,
   "metadata": {
    "slideshow": {
     "slide_type": "-"
    }
   },
   "outputs": [
    {
     "data": {
      "text/plain": [
       "'a'"
      ]
     },
     "execution_count": 49,
     "metadata": {},
     "output_type": "execute_result"
    }
   ],
   "source": [
    "t = ('a', 'b', 'c', 'd', 'e')\n",
    "t[0]"
   ]
  },
  {
   "cell_type": "markdown",
   "metadata": {
    "slideshow": {
     "slide_type": "fragment"
    }
   },
   "source": [
    "...og slices af tupler:"
   ]
  },
  {
   "cell_type": "code",
   "execution_count": 50,
   "metadata": {
    "slideshow": {
     "slide_type": "-"
    }
   },
   "outputs": [
    {
     "data": {
      "text/plain": [
       "('b', 'c')"
      ]
     },
     "execution_count": 50,
     "metadata": {},
     "output_type": "execute_result"
    }
   ],
   "source": [
    "t[1:3]"
   ]
  },
  {
   "cell_type": "markdown",
   "metadata": {
    "slideshow": {
     "slide_type": "subslide"
    }
   },
   "source": [
    "Vi kan se, at tupler er immuterbare:"
   ]
  },
  {
   "cell_type": "code",
   "execution_count": 51,
   "metadata": {
    "slideshow": {
     "slide_type": "-"
    }
   },
   "outputs": [
    {
     "ename": "TypeError",
     "evalue": "'tuple' object does not support item assignment",
     "output_type": "error",
     "traceback": [
      "\u001b[0;31m---------------------------------------------------------------------------\u001b[0m",
      "\u001b[0;31mTypeError\u001b[0m                                 Traceback (most recent call last)",
      "\u001b[0;32m/var/folders/m0/qdb3sfgd3qbbz8xv0ht7blz00000gn/T/ipykernel_5907/3054271853.py\u001b[0m in \u001b[0;36m<module>\u001b[0;34m\u001b[0m\n\u001b[0;32m----> 1\u001b[0;31m \u001b[0mt\u001b[0m\u001b[0;34m[\u001b[0m\u001b[0;36m0\u001b[0m\u001b[0;34m]\u001b[0m \u001b[0;34m=\u001b[0m \u001b[0;34m'A'\u001b[0m\u001b[0;34m\u001b[0m\u001b[0;34m\u001b[0m\u001b[0m\n\u001b[0m",
      "\u001b[0;31mTypeError\u001b[0m: 'tuple' object does not support item assignment"
     ]
    }
   ],
   "source": [
    "t[0] = 'A'"
   ]
  },
  {
   "cell_type": "markdown",
   "metadata": {
    "slideshow": {
     "slide_type": "-"
    }
   },
   "source": [
    "Det er ligesom med tekststrenge. For at ændre en tupel bliver vi i stedet nødt til at skabe en ny tupel ud fra dele af en eksisterende:"
   ]
  },
  {
   "cell_type": "code",
   "execution_count": 52,
   "metadata": {
    "slideshow": {
     "slide_type": "-"
    }
   },
   "outputs": [
    {
     "data": {
      "text/plain": [
       "('A', 'b', 'c', 'd', 'e')"
      ]
     },
     "execution_count": 52,
     "metadata": {},
     "output_type": "execute_result"
    }
   ],
   "source": [
    "t = ('A',) + t[1:]\n",
    "t"
   ]
  },
  {
   "cell_type": "markdown",
   "metadata": {
    "slideshow": {
     "slide_type": "-"
    }
   },
   "source": [
    "Dette ændrer ikke på den oprindelige tupel `t` men erstatter den oprindelige tupel med en ny, tildeler den igen til variablen t og overskriver herved den tidligere tupel, som `t` refererede til."
   ]
  },
  {
   "cell_type": "markdown",
   "metadata": {
    "slideshow": {
     "slide_type": "subslide"
    }
   },
   "source": [
    "Tupler kan også sammenlignes med de relationelle operatorer, som vi så for tekststrenge. Python starter med at sammenligne de første elementer fra hver sekvens. Hvis de er ens går den til de næste elementer og fortsætter indtil to elementer er forskellige. Efterfølgende elementer bliver ikke taget i betragtning (ligesom ved alfabetisk rækkefølge), uanset om det er meget store."
   ]
  },
  {
   "cell_type": "code",
   "execution_count": 53,
   "metadata": {
    "slideshow": {
     "slide_type": "-"
    }
   },
   "outputs": [
    {
     "data": {
      "text/plain": [
       "True"
      ]
     },
     "execution_count": 53,
     "metadata": {},
     "output_type": "execute_result"
    }
   ],
   "source": [
    "(0, 1, 2) < (0, 3, 4)"
   ]
  },
  {
   "cell_type": "code",
   "execution_count": 54,
   "metadata": {
    "slideshow": {
     "slide_type": "-"
    }
   },
   "outputs": [
    {
     "data": {
      "text/plain": [
       "True"
      ]
     },
     "execution_count": 54,
     "metadata": {},
     "output_type": "execute_result"
    }
   ],
   "source": [
    "(0, 1, 2000000) < (0, 3, 4)"
   ]
  },
  {
   "cell_type": "markdown",
   "metadata": {},
   "source": [
    "## Opgave 6\n",
    "\n",
    "Definér to tupler med bogstaverne fra hhv. dit fornavn og efternavn og læg dem sammen til én tupel med hele dit navn, med et mellemrum imellem. Eksempel på resultat:\n",
    "\n",
    "``('J', 'o', 'h', 'n', ' ', 'D', 'o', 'e')``\n",
    "\n",
    "Lav mellemrummet __uden__ at bruge `tupel`-kommandoen."
   ]
  },
  {
   "cell_type": "code",
   "execution_count": null,
   "metadata": {},
   "outputs": [],
   "source": []
  },
  {
   "cell_type": "markdown",
   "metadata": {},
   "source": [
    "Se svaret ved at klikke på \"...\" herunder. Men prøv først selv om du kan løse opgaven uden hjælp."
   ]
  },
  {
   "cell_type": "code",
   "execution_count": 41,
   "metadata": {
    "jupyter": {
     "source_hidden": true
    },
    "tags": []
   },
   "outputs": [
    {
     "data": {
      "text/plain": [
       "('J', 'o', 'h', 'n', ' ', 'D', 'o', 'e')"
      ]
     },
     "execution_count": 41,
     "metadata": {},
     "output_type": "execute_result"
    }
   ],
   "source": [
    "first = tuple('John')\n",
    "last = tuple('Doe')\n",
    "name = first + (' ',) + last\n",
    "name"
   ]
  },
  {
   "cell_type": "markdown",
   "metadata": {
    "slideshow": {
     "slide_type": "subslide"
    }
   },
   "source": [
    "## Tildeling via tupler\n",
    "\n",
    "Ved hjælp af tupler kan man tildele flere værdier til flere variable på én gang, f.eks."
   ]
  },
  {
   "cell_type": "code",
   "execution_count": 55,
   "metadata": {
    "slideshow": {
     "slide_type": "-"
    }
   },
   "outputs": [
    {
     "data": {
      "text/plain": [
       "1"
      ]
     },
     "execution_count": 55,
     "metadata": {},
     "output_type": "execute_result"
    }
   ],
   "source": [
    "a, b = 1, 2\n",
    "a"
   ]
  },
  {
   "cell_type": "code",
   "execution_count": 56,
   "metadata": {
    "slideshow": {
     "slide_type": "-"
    }
   },
   "outputs": [
    {
     "data": {
      "text/plain": [
       "2"
      ]
     },
     "execution_count": 56,
     "metadata": {},
     "output_type": "execute_result"
    }
   ],
   "source": [
    "b"
   ]
  },
  {
   "cell_type": "markdown",
   "metadata": {
    "slideshow": {
     "slide_type": "fragment"
    }
   },
   "source": [
    "Antallet af værdier skal naturligvis passe sammen:"
   ]
  },
  {
   "cell_type": "code",
   "execution_count": 57,
   "metadata": {
    "slideshow": {
     "slide_type": "-"
    }
   },
   "outputs": [
    {
     "ename": "ValueError",
     "evalue": "too many values to unpack (expected 2)",
     "output_type": "error",
     "traceback": [
      "\u001b[0;31m---------------------------------------------------------------------------\u001b[0m",
      "\u001b[0;31mValueError\u001b[0m                                Traceback (most recent call last)",
      "\u001b[0;32m/var/folders/m0/qdb3sfgd3qbbz8xv0ht7blz00000gn/T/ipykernel_5907/1202805113.py\u001b[0m in \u001b[0;36m<module>\u001b[0;34m\u001b[0m\n\u001b[0;32m----> 1\u001b[0;31m \u001b[0ma\u001b[0m\u001b[0;34m,\u001b[0m \u001b[0mb\u001b[0m \u001b[0;34m=\u001b[0m \u001b[0;36m1\u001b[0m\u001b[0;34m,\u001b[0m \u001b[0;36m2\u001b[0m\u001b[0;34m,\u001b[0m \u001b[0;36m3\u001b[0m\u001b[0;34m\u001b[0m\u001b[0;34m\u001b[0m\u001b[0m\n\u001b[0m",
      "\u001b[0;31mValueError\u001b[0m: too many values to unpack (expected 2)"
     ]
    }
   ],
   "source": [
    "a, b = 1, 2, 3"
   ]
  },
  {
   "cell_type": "markdown",
   "metadata": {
    "slideshow": {
     "slide_type": "subslide"
    }
   },
   "source": [
    "Tildeling af værdier via tupler kan også udnyttes til let at bytte om på værdier af to variable. Hvor man ellers ville blive nødt til at arbejde med en lidt besværlig \"mellem-variabel\":"
   ]
  },
  {
   "cell_type": "code",
   "execution_count": 58,
   "metadata": {
    "slideshow": {
     "slide_type": "-"
    }
   },
   "outputs": [
    {
     "name": "stdout",
     "output_type": "stream",
     "text": [
      "2 1\n"
     ]
    }
   ],
   "source": [
    "temp = a\n",
    "a = b\n",
    "b = temp\n",
    "print(a,b)"
   ]
  },
  {
   "cell_type": "markdown",
   "metadata": {
    "slideshow": {
     "slide_type": "-"
    }
   },
   "source": [
    "...kan vi i stedet gøre:"
   ]
  },
  {
   "cell_type": "code",
   "execution_count": 59,
   "metadata": {
    "slideshow": {
     "slide_type": "-"
    }
   },
   "outputs": [
    {
     "name": "stdout",
     "output_type": "stream",
     "text": [
      "1 2\n"
     ]
    }
   ],
   "source": [
    "b, a = a, b\n",
    "print(a,b)"
   ]
  },
  {
   "cell_type": "markdown",
   "metadata": {
    "slideshow": {
     "slide_type": "subslide"
    }
   },
   "source": [
    "## Tupler som returværdier\n",
    "\n",
    "Funktioner kan faktisk kun returnere én værdi / ét objekt ad gangen.\n",
    "- Der er imidlertid ikke noget i vejen for, at dette objekt kan være en tupel.\n",
    "- Derfor kan en funktion returnere en tupel med flere værdier i og i praksis fungere som om, den returnerer flere værdier på én gang."
   ]
  },
  {
   "cell_type": "code",
   "execution_count": 60,
   "metadata": {
    "slideshow": {
     "slide_type": "-"
    }
   },
   "outputs": [
    {
     "data": {
      "text/plain": [
       "(2, 1)"
      ]
     },
     "execution_count": 60,
     "metadata": {},
     "output_type": "execute_result"
    }
   ],
   "source": [
    "t = divmod(7, 3)\n",
    "t"
   ]
  },
  {
   "cell_type": "markdown",
   "metadata": {
    "slideshow": {
     "slide_type": "fragment"
    }
   },
   "source": [
    "Vi kan bruge tupel-tildeling til at tildele de to værdier til separate variable:"
   ]
  },
  {
   "cell_type": "code",
   "execution_count": 61,
   "metadata": {
    "slideshow": {
     "slide_type": "-"
    }
   },
   "outputs": [
    {
     "data": {
      "text/plain": [
       "2"
      ]
     },
     "execution_count": 61,
     "metadata": {},
     "output_type": "execute_result"
    }
   ],
   "source": [
    "quot, rem = divmod(7, 3)\n",
    "quot"
   ]
  },
  {
   "cell_type": "code",
   "execution_count": 62,
   "metadata": {
    "slideshow": {
     "slide_type": "-"
    }
   },
   "outputs": [
    {
     "data": {
      "text/plain": [
       "1"
      ]
     },
     "execution_count": 62,
     "metadata": {},
     "output_type": "execute_result"
    }
   ],
   "source": [
    "rem"
   ]
  },
  {
   "cell_type": "markdown",
   "metadata": {
    "slideshow": {
     "slide_type": "subslide"
    }
   },
   "source": [
    "Funktioner kan returnere tupler således:"
   ]
  },
  {
   "cell_type": "code",
   "execution_count": 43,
   "metadata": {
    "slideshow": {
     "slide_type": "-"
    }
   },
   "outputs": [],
   "source": [
    "def min_max(t):\n",
    "    return min(t), max(t)"
   ]
  },
  {
   "cell_type": "markdown",
   "metadata": {},
   "source": [
    "## Opgave 7\n",
    "\n",
    "Lav en liste eller tupel af værdier og afprøv `min_max`-funktionen. Tildel retur-værdierne til variablene kaldet `min_a` og `max_a` og udskriv dem."
   ]
  },
  {
   "cell_type": "code",
   "execution_count": null,
   "metadata": {},
   "outputs": [],
   "source": []
  },
  {
   "cell_type": "markdown",
   "metadata": {},
   "source": [
    "Se svaret ved at klikke på \"...\" herunder. Men prøv først selv om du kan løse opgaven uden hjælp."
   ]
  },
  {
   "cell_type": "code",
   "execution_count": 47,
   "metadata": {
    "jupyter": {
     "source_hidden": true
    },
    "tags": []
   },
   "outputs": [
    {
     "name": "stdout",
     "output_type": "stream",
     "text": [
      "Minimum er 1\n",
      "Maximum er 7\n"
     ]
    }
   ],
   "source": [
    "a = (6,4,6,5,3,2,1,7,5,4)\n",
    "min_a, max_a = min_max(a)\n",
    "print(f'Minimum er {min_a}\\nMaximum er {max_a}')"
   ]
  },
  {
   "cell_type": "markdown",
   "metadata": {
    "slideshow": {
     "slide_type": "subslide"
    },
    "tags": []
   },
   "source": [
    "## Variabelt antal funktionsargumenter\n",
    "Man kan også bruge tupler i forbindelse med argumenter til funktioner, så funktioner kan tage et variabelt antal argumenter.\n",
    "- Operatoren `*` foran navnet på et argument *samler* argumenterne til funktionen i én tupel."
   ]
  },
  {
   "cell_type": "code",
   "execution_count": 53,
   "metadata": {
    "slideshow": {
     "slide_type": "-"
    }
   },
   "outputs": [],
   "source": [
    "def printall(*args):\n",
    "    print(args)"
   ]
  },
  {
   "cell_type": "code",
   "execution_count": 65,
   "metadata": {
    "slideshow": {
     "slide_type": "-"
    }
   },
   "outputs": [
    {
     "name": "stdout",
     "output_type": "stream",
     "text": [
      "(1, 2.0, '3')\n"
     ]
    }
   ],
   "source": [
    "printall(1, 2.0, '3')"
   ]
  },
  {
   "cell_type": "markdown",
   "metadata": {
    "slideshow": {
     "slide_type": "subslide"
    }
   },
   "source": [
    "Man kan også *sprede* en tupel i enkelt-værdier, dvs. det modsatte af at *samle* dem.\n",
    "- Værdier i en tupel *spredes* med samme operator `*`."
   ]
  },
  {
   "cell_type": "markdown",
   "metadata": {},
   "source": [
    "Hvis vi f.eks. gerne vil give argumenterne til `divmod` samlet som en tupel, virker det ikke umiddelbart:"
   ]
  },
  {
   "cell_type": "code",
   "execution_count": 66,
   "metadata": {
    "slideshow": {
     "slide_type": "-"
    }
   },
   "outputs": [
    {
     "ename": "TypeError",
     "evalue": "divmod expected 2 arguments, got 1",
     "output_type": "error",
     "traceback": [
      "\u001b[0;31m---------------------------------------------------------------------------\u001b[0m",
      "\u001b[0;31mTypeError\u001b[0m                                 Traceback (most recent call last)",
      "\u001b[0;32m/var/folders/m0/qdb3sfgd3qbbz8xv0ht7blz00000gn/T/ipykernel_5907/3296262368.py\u001b[0m in \u001b[0;36m<module>\u001b[0;34m\u001b[0m\n\u001b[1;32m      1\u001b[0m \u001b[0mt\u001b[0m \u001b[0;34m=\u001b[0m \u001b[0;34m(\u001b[0m\u001b[0;36m7\u001b[0m\u001b[0;34m,\u001b[0m \u001b[0;36m3\u001b[0m\u001b[0;34m)\u001b[0m\u001b[0;34m\u001b[0m\u001b[0;34m\u001b[0m\u001b[0m\n\u001b[0;32m----> 2\u001b[0;31m \u001b[0mdivmod\u001b[0m\u001b[0;34m(\u001b[0m\u001b[0mt\u001b[0m\u001b[0;34m)\u001b[0m\u001b[0;34m\u001b[0m\u001b[0;34m\u001b[0m\u001b[0m\n\u001b[0m",
      "\u001b[0;31mTypeError\u001b[0m: divmod expected 2 arguments, got 1"
     ]
    }
   ],
   "source": [
    "t = (7, 3)\n",
    "divmod(t)"
   ]
  },
  {
   "cell_type": "markdown",
   "metadata": {
    "slideshow": {
     "slide_type": "-"
    }
   },
   "source": [
    "Det kan vi ikke på grund af måden, `divmod` er defineret på (den forventer to argumenter). Det kan vi tilpasse os ved at *sprede* tuplen til enkeltdele:"
   ]
  },
  {
   "cell_type": "code",
   "execution_count": 67,
   "metadata": {
    "slideshow": {
     "slide_type": "-"
    }
   },
   "outputs": [
    {
     "data": {
      "text/plain": [
       "(2, 1)"
      ]
     },
     "execution_count": 67,
     "metadata": {},
     "output_type": "execute_result"
    }
   ],
   "source": [
    "divmod(*t)"
   ]
  },
  {
   "cell_type": "markdown",
   "metadata": {},
   "source": [
    "## Keyword argumenter\n",
    "\n",
    "Tilbage i lektion 2, hvor vi havde en case study fra kapitel 4 omkring at tegne med Turtle-modulet, lærte vi at man kan bruge såkaldte *keyword arguments* når man kalder en funktion. Så kan argumenterne gives i vilkårlig rækkefølge. Bemærk i eksemplet herunder hvordan det 2. kald til `print_navn` har argumenterne i omvendt rækkefølge men stadig giver samme resultat."
   ]
  },
  {
   "cell_type": "code",
   "execution_count": 8,
   "metadata": {},
   "outputs": [
    {
     "name": "stdout",
     "output_type": "stream",
     "text": [
      "John Doe\n",
      "John Doe\n"
     ]
    }
   ],
   "source": [
    "def print_navn(fornavn,efternavn):\n",
    "    print(fornavn + ' ' + efternavn)\n",
    "    \n",
    "print_navn('John','Doe')\n",
    "\n",
    "print_navn(efternavn='Doe', fornavn='John')"
   ]
  },
  {
   "cell_type": "markdown",
   "metadata": {},
   "source": [
    "Hvis vi prøver at kalde `print_all`-funktionen fra før på denne måde får vi en fejl, da `third` ikke er defineret som muligt argument:"
   ]
  },
  {
   "cell_type": "code",
   "execution_count": 56,
   "metadata": {},
   "outputs": [
    {
     "ename": "TypeError",
     "evalue": "printall() got an unexpected keyword argument 'third'",
     "output_type": "error",
     "traceback": [
      "\u001b[0;31m---------------------------------------------------------------------------\u001b[0m",
      "\u001b[0;31mTypeError\u001b[0m                                 Traceback (most recent call last)",
      "\u001b[0;32m/tmp/ipykernel_43578/71805107.py\u001b[0m in \u001b[0;36m<module>\u001b[0;34m\u001b[0m\n\u001b[0;32m----> 1\u001b[0;31m \u001b[0mprintall\u001b[0m\u001b[0;34m(\u001b[0m\u001b[0;36m1\u001b[0m\u001b[0;34m,\u001b[0m \u001b[0;36m2.0\u001b[0m\u001b[0;34m,\u001b[0m \u001b[0mthird\u001b[0m\u001b[0;34m=\u001b[0m\u001b[0;34m'3'\u001b[0m\u001b[0;34m)\u001b[0m\u001b[0;34m\u001b[0m\u001b[0;34m\u001b[0m\u001b[0m\n\u001b[0m",
      "\u001b[0;31mTypeError\u001b[0m: printall() got an unexpected keyword argument 'third'"
     ]
    }
   ],
   "source": [
    "printall(1, 2.0, third='3')"
   ]
  },
  {
   "cell_type": "markdown",
   "metadata": {},
   "source": [
    "Vi kan samle keyword argumenter ved at bruge `**`-operatoren på følgende måde:"
   ]
  },
  {
   "cell_type": "code",
   "execution_count": 6,
   "metadata": {},
   "outputs": [],
   "source": [
    "def printall(*args, **kwargs):\n",
    "    print(args)\n",
    "    print(kwargs)"
   ]
  },
  {
   "cell_type": "markdown",
   "metadata": {},
   "source": [
    "Kører vi nu funktionen igen på samme måde får vi et nyt resultat, hvor vores keyword argument er gemt i `kwargs` som er en ordbog:"
   ]
  },
  {
   "cell_type": "code",
   "execution_count": 7,
   "metadata": {},
   "outputs": [
    {
     "name": "stdout",
     "output_type": "stream",
     "text": [
      "(1, 2.0)\n",
      "{'third': '3'}\n"
     ]
    }
   ],
   "source": [
    "printall(1, 2.0, third='3')"
   ]
  },
  {
   "cell_type": "markdown",
   "metadata": {},
   "source": [
    "Hvis vi har en ordbog med keywords og værdier kan vi adskille dem med *scatter* operatoren `**`, hvis en funktion forventer flere argumenter, på følgende måde:"
   ]
  },
  {
   "cell_type": "code",
   "execution_count": 11,
   "metadata": {},
   "outputs": [
    {
     "name": "stdout",
     "output_type": "stream",
     "text": [
      "John Doe\n"
     ]
    }
   ],
   "source": [
    "navn = {'fornavn': 'John', 'efternavn': 'Doe'}\n",
    "print_navn(**navn)"
   ]
  },
  {
   "cell_type": "markdown",
   "metadata": {},
   "source": [
    "Havde vi bare kaldt funktionen med `navn` som argument, ville den fejle fordi den forventer to argumenter:"
   ]
  },
  {
   "cell_type": "code",
   "execution_count": 61,
   "metadata": {},
   "outputs": [
    {
     "ename": "TypeError",
     "evalue": "print_navn() missing 1 required positional argument: 'efternavn'",
     "output_type": "error",
     "traceback": [
      "\u001b[0;31m---------------------------------------------------------------------------\u001b[0m",
      "\u001b[0;31mTypeError\u001b[0m                                 Traceback (most recent call last)",
      "\u001b[0;32m/tmp/ipykernel_43578/1686482871.py\u001b[0m in \u001b[0;36m<module>\u001b[0;34m\u001b[0m\n\u001b[0;32m----> 1\u001b[0;31m \u001b[0mprint_navn\u001b[0m\u001b[0;34m(\u001b[0m\u001b[0mnavn\u001b[0m\u001b[0;34m)\u001b[0m\u001b[0;34m\u001b[0m\u001b[0;34m\u001b[0m\u001b[0m\n\u001b[0m",
      "\u001b[0;31mTypeError\u001b[0m: print_navn() missing 1 required positional argument: 'efternavn'"
     ]
    }
   ],
   "source": [
    "print_navn(navn)"
   ]
  },
  {
   "cell_type": "markdown",
   "metadata": {},
   "source": [
    "Metoden med at bruge ordbøger til at overlevere funktionsargumenter igennem kun én variable er meget anvendelig i større programmer hvor nogle funktioners virkemåde afhænger af et stort antal parametre. I stedet for at definere parametre som globale variable, som måske er den mest nærlæggende løsning, kan parametrene føres rundt på elegant vis igennem en ordbog."
   ]
  },
  {
   "cell_type": "markdown",
   "metadata": {},
   "source": [
    "## Standard-værdier til argumenter\n",
    "\n",
    "Når man definerer en funktion kan man også angive standard-værdier for en funktions argumenter. Dette gør man som vist i følgende eksempel:"
   ]
  },
  {
   "cell_type": "code",
   "execution_count": 75,
   "metadata": {},
   "outputs": [],
   "source": [
    "def afstand(x, y, x0=0 ,y0=0):\n",
    "    print(f'x={x}, y={y}, x0={x0}, y0={y0}')\n",
    "    return ((x-x0)**2 + (y-y0)**2)**0.5"
   ]
  },
  {
   "cell_type": "markdown",
   "metadata": {},
   "source": [
    "Hvis vi kalder funktionen kun med de obligatoriske parametre `x` og `y`, benyttes standard-værdierne (default values) for `x0` og `y0` som er angivet i funktionsdefinitionen:"
   ]
  },
  {
   "cell_type": "code",
   "execution_count": 76,
   "metadata": {},
   "outputs": [
    {
     "name": "stdout",
     "output_type": "stream",
     "text": [
      "x=2, y=2, x0=0, y0=0\n",
      "2.8284271247461903\n"
     ]
    }
   ],
   "source": [
    "print(afstand(2,2))"
   ]
  },
  {
   "cell_type": "markdown",
   "metadata": {},
   "source": [
    "Hvis vi derimod kalder funktionen med fire argumenter, overskriver vi standardværdierne for `x0` og `y0` og disse bliver ignoreret."
   ]
  },
  {
   "cell_type": "code",
   "execution_count": 77,
   "metadata": {},
   "outputs": [
    {
     "name": "stdout",
     "output_type": "stream",
     "text": [
      "x=2, y=2, x0=1, y0=1\n",
      "1.4142135623730951\n"
     ]
    }
   ],
   "source": [
    "print(afstand(2,2,1,1))"
   ]
  },
  {
   "cell_type": "markdown",
   "metadata": {},
   "source": [
    "I princippet kan vi også kalde funktionen med tre argumenter, selvom det måske virker lidt ulogisk i dette eksempel:"
   ]
  },
  {
   "cell_type": "code",
   "execution_count": 78,
   "metadata": {},
   "outputs": [
    {
     "name": "stdout",
     "output_type": "stream",
     "text": [
      "x=2, y=2, x0=1, y0=0\n",
      "2.23606797749979\n"
     ]
    }
   ],
   "source": [
    "print(afstand(2,2,1))"
   ]
  },
  {
   "cell_type": "markdown",
   "metadata": {},
   "source": [
    "Hvis vi ønsker at angive en bestemt værdi for y0, men vil benytte standardværdien for x0, er vi nødt til at være lidt mere eksplicitte og kalde funktionen med y0 som et keyword argument:"
   ]
  },
  {
   "cell_type": "code",
   "execution_count": 79,
   "metadata": {},
   "outputs": [
    {
     "name": "stdout",
     "output_type": "stream",
     "text": [
      "x=2, y=2, x0=0, y0=1\n",
      "2.23606797749979\n"
     ]
    }
   ],
   "source": [
    "print(afstand(2,2,y0=1))"
   ]
  },
  {
   "cell_type": "markdown",
   "metadata": {},
   "source": [
    "## Opgave 8\n",
    "\n",
    "Revidér nedenstående program så udseendet af overskrifts-banneret kan ændres igennem standardparametre. Det kunne være parametre til at angive:\n",
    "1. symbol (i stedet for `#`)\n",
    "2. hvor mange symboler i træk\n",
    "3. hvor mange mellemrum omkring titlen. \n",
    "Definér nogle passende parametre med standardværdier ligesom for `x` og `y` i `afstand`-eksemplet ovenfor."
   ]
  },
  {
   "cell_type": "code",
   "execution_count": 117,
   "metadata": {},
   "outputs": [
    {
     "name": "stdout",
     "output_type": "stream",
     "text": [
      "#####   Indledning   #####\n",
      "#####   Konklusion   #####\n"
     ]
    }
   ],
   "source": [
    "def print_banner(s):\n",
    "    symbols = 5*'#'\n",
    "    spaces = 3*' '\n",
    "    banner = symbols + spaces + s + spaces + symbols\n",
    "    print(banner)\n",
    "    \n",
    "print_banner('Indledning')\n",
    "print_banner('Konklusion')\n"
   ]
  },
  {
   "cell_type": "code",
   "execution_count": 118,
   "metadata": {},
   "outputs": [],
   "source": [
    "# Revideret udgave\n"
   ]
  },
  {
   "cell_type": "code",
   "execution_count": 119,
   "metadata": {},
   "outputs": [],
   "source": [
    "# Prøv at kalde `print_banner` igen med ændrede parametre, så udseendet ændres\n",
    "\n"
   ]
  },
  {
   "cell_type": "markdown",
   "metadata": {},
   "source": [
    "Se svaret ved at klikke på \"...\" herunder. Men prøv først selv om du kan løse opgaven uden hjælp."
   ]
  },
  {
   "cell_type": "code",
   "execution_count": 12,
   "metadata": {
    "jupyter": {
     "source_hidden": true
    },
    "tags": []
   },
   "outputs": [
    {
     "name": "stdout",
     "output_type": "stream",
     "text": [
      "#####   Indledning   #####\n",
      "#####   Konklusion   #####\n"
     ]
    }
   ],
   "source": [
    "# Revideret udgave\n",
    "def print_banner(s, sym='#', n_space=3, n_sym=5):\n",
    "    symbols = n_sym*sym\n",
    "    spaces = n_space*' '\n",
    "    banner = symbols + spaces + s + spaces + symbols\n",
    "    print(banner)\n",
    "    \n",
    "# Vi kan stadig kalde funktionerne med kun s og så bruges standardværdier.\n",
    "print_banner('Indledning')\n",
    "print_banner('Konklusion')"
   ]
  },
  {
   "cell_type": "code",
   "execution_count": 116,
   "metadata": {
    "jupyter": {
     "source_hidden": true
    },
    "tags": []
   },
   "outputs": [
    {
     "name": "stdout",
     "output_type": "stream",
     "text": [
      "*******    Indledning    *******\n",
      "*******    Konklusion    *******\n"
     ]
    }
   ],
   "source": [
    "# Prøv at kalde `print_banner` igen med ændrede parametre, så udseendet ændres\n",
    "\n",
    "# Vi kan omdefinere parametrene enten i rækkefølge eller som keyword arguments i vilkårlig rækkefølge:\n",
    "print_banner('Indledning','*',4,7)\n",
    "print_banner('Konklusion',n_sym=7,sym='*',n_space=4)"
   ]
  },
  {
   "cell_type": "markdown",
   "metadata": {},
   "source": [
    "# The end"
   ]
  },
  {
   "cell_type": "code",
   "execution_count": null,
   "metadata": {},
   "outputs": [],
   "source": []
  }
 ],
 "metadata": {
  "kernelspec": {
   "display_name": "Python 3 (ipykernel)",
   "language": "python",
   "name": "python3"
  },
  "language_info": {
   "codemirror_mode": {
    "name": "ipython",
    "version": 3
   },
   "file_extension": ".py",
   "mimetype": "text/x-python",
   "name": "python",
   "nbconvert_exporter": "python",
   "pygments_lexer": "ipython3",
   "version": "3.10.12"
  }
 },
 "nbformat": 4,
 "nbformat_minor": 4
}
